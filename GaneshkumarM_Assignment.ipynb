{
 "cells": [
  {
   "cell_type": "markdown",
   "id": "0501da20",
   "metadata": {},
   "source": [
    "# EDUNET FOUNDATION - Self-Practice Exercise Notebook\n",
    "# LAB 3 - Python Basics"
   ]
  },
  {
   "cell_type": "markdown",
   "id": "2077301a",
   "metadata": {},
   "source": [
    "Problem 1: WRITE A SAMPLE PYTHON PROGRAM TO ADD TWO NUMBERS"
   ]
  },
  {
   "cell_type": "code",
   "execution_count": null,
   "id": "607d04c4",
   "metadata": {},
   "outputs": [],
   "source": [
    "a,b = list(map(int,input().split()))\n",
    "print(a+b)"
   ]
  },
  {
   "cell_type": "markdown",
   "id": "e171bbb3",
   "metadata": {},
   "source": [
    "Problem 2: WRITE A SAMPLE PYTHON PROGRAM Convert Kilometers to Miles\n"
   ]
  },
  {
   "cell_type": "code",
   "execution_count": 3,
   "id": "a24729c9",
   "metadata": {},
   "outputs": [
    {
     "name": "stdout",
     "output_type": "stream",
     "text": [
      "6.2137119\n"
     ]
    }
   ],
   "source": [
    "a = int(input())\n",
    "print(a*0.62137119)"
   ]
  },
  {
   "cell_type": "markdown",
   "id": "4948df19",
   "metadata": {},
   "source": [
    "PROBLEM 3: WRITE A Python Program to Find the Square Root"
   ]
  },
  {
   "cell_type": "code",
   "execution_count": 2,
   "id": "46174e21",
   "metadata": {},
   "outputs": [
    {
     "name": "stdout",
     "output_type": "stream",
     "text": [
      "10.0\n"
     ]
    }
   ],
   "source": [
    "a = int(input(\"Enter the Number\"))\n",
    "print(a**(1/2))"
   ]
  },
  {
   "cell_type": "markdown",
   "id": "f9bcb50e",
   "metadata": {},
   "source": []
  },
  {
   "cell_type": "markdown",
   "id": "a409df99",
   "metadata": {},
   "source": []
  }
 ],
 "metadata": {
  "kernelspec": {
   "display_name": "Python 3 (ipykernel)",
   "language": "python",
   "name": "python3"
  },
  "language_info": {
   "codemirror_mode": {
    "name": "ipython",
    "version": 3
   },
   "file_extension": ".py",
   "mimetype": "text/x-python",
   "name": "python",
   "nbconvert_exporter": "python",
   "pygments_lexer": "ipython3",
   "version": "3.9.13"
  }
 },
 "nbformat": 4,
 "nbformat_minor": 5
}
